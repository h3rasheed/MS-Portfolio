{
 "cells": [
  {
   "cell_type": "markdown",
   "id": "69ca6b82",
   "metadata": {},
   "source": [
    "# Vector Arithmetic"
   ]
  },
  {
   "cell_type": "code",
   "execution_count": 1,
   "id": "8b24cbd6",
   "metadata": {},
   "outputs": [
    {
     "name": "stdout",
     "output_type": "stream",
     "text": [
      "1. u - v =\n",
      " [[-2]\n",
      " [-2]] \n",
      "\n",
      "2. u + v =\n",
      " [[ 6]\n",
      " [12]] \n",
      "\n",
      "3. 3u - 5v =\n",
      " [[-14]\n",
      " [-20]] \n",
      "\n",
      "4. 2u + 4v =\n",
      " [[20]\n",
      " [38]] \n",
      "\n"
     ]
    }
   ],
   "source": [
    "import numpy as np\n",
    "\n",
    "# \n",
    "u = np.array([[2], [5]])\n",
    "v = np.array([[4], [7]])\n",
    "\n",
    "# \n",
    "u_minus_v = u - v  # u - v\n",
    "u_plus_v = u + v  # u + v\n",
    "three_u_minus_five_v = 3*u - 5*v  # 3u - 5v\n",
    "two_u_plus_four_v = 2*u + 4*v  # 2u + 4v\n",
    "\n",
    "# \n",
    "print(\"1. u - v =\\n\", u_minus_v, \"\\n\")\n",
    "print(\"2. u + v =\\n\", u_plus_v, \"\\n\")\n",
    "print(\"3. 3u - 5v =\\n\", three_u_minus_five_v, \"\\n\")\n",
    "print(\"4. 2u + 4v =\\n\", two_u_plus_four_v, \"\\n\")\n"
   ]
  },
  {
   "cell_type": "markdown",
   "id": "72fa2176",
   "metadata": {},
   "source": [
    "# Matrix Arithmetic"
   ]
  },
  {
   "cell_type": "code",
   "execution_count": 2,
   "id": "3b7a5a3a",
   "metadata": {},
   "outputs": [
    {
     "name": "stdout",
     "output_type": "stream",
     "text": [
      "5. A + B =\n",
      " [[ 4  7  5]\n",
      " [ 5  8 14]\n",
      " [ 9  1 12]] \n",
      "\n",
      "6. A - B =\n",
      " [[ 2  5 -3]\n",
      " [-1  4  4]\n",
      " [ 1  1 -6]] \n",
      "\n",
      "7. 2A - 3B =\n",
      " [[  3   9 -10]\n",
      " [ -5   6   3]\n",
      " [ -2   2 -21]] \n",
      "\n",
      "8. 5A + 2B =\n",
      " [[17 32 13]\n",
      " [16 34 55]\n",
      " [33  5 33]] \n",
      "\n"
     ]
    }
   ],
   "source": [
    "import numpy as np\n",
    "\n",
    "# \n",
    "A = np.array([[3, 6, 1], [2, 6, 9], [5, 1, 3]])\n",
    "B = np.array([[1, 1, 4], [3, 2, 5], [4, 0, 9]])\n",
    "\n",
    "# \n",
    "A_plus_B = A + B  # A + B\n",
    "A_minus_B = A - B  # A - B\n",
    "two_A_minus_three_B = 2*A - 3*B  # 2A - 3B\n",
    "five_A_plus_two_B = 5*A + 2*B  # 5A + 2B\n",
    "\n",
    "# \n",
    "print(\"5. A + B =\\n\", A_plus_B, \"\\n\")\n",
    "print(\"6. A - B =\\n\", A_minus_B, \"\\n\")\n",
    "print(\"7. 2A - 3B =\\n\", two_A_minus_three_B, \"\\n\")\n",
    "print(\"8. 5A + 2B =\\n\", five_A_plus_two_B, \"\\n\")\n"
   ]
  },
  {
   "cell_type": "markdown",
   "id": "e1720867",
   "metadata": {},
   "source": [
    "# Matrix/Vector Multiplication"
   ]
  },
  {
   "cell_type": "code",
   "execution_count": 3,
   "id": "16097140",
   "metadata": {},
   "outputs": [
    {
     "name": "stdout",
     "output_type": "stream",
     "text": [
      "9. Au =\n",
      " [[17]\n",
      " [30]\n",
      " [22]] \n",
      "\n",
      "10. Bv =\n",
      " [[16]\n",
      " [17]\n",
      " [48]] \n",
      "\n",
      "11. Aw =\n",
      " [[6]\n",
      " [6]\n",
      " [1]] \n",
      "\n"
     ]
    }
   ],
   "source": [
    "import numpy as np\n",
    "\n",
    "\n",
    "A = np.array([[3, 6, 1], [2, 6, 9], [5, 1, 3]])\n",
    "u = np.array([[3], [1], [2]])\n",
    "w = np.array([[0], [1], [0]])   \n",
    "\n",
    "\n",
    "B = np.array([[1, 1, 4, 9], [3, 2, 5, 1], [2, 7, 0, 9]])\n",
    "v = np.array([[2], [5], [0], [1]])\n",
    "\n",
    " \n",
    "Au = np.dot(A, u)  # A * u\n",
    "Bv = np.dot(B, v)  # B * v\n",
    "Aw = np.dot(A, w)  # A * w\n",
    "\n",
    " \n",
    "print(\"9. Au =\\n\", Au, \"\\n\")\n",
    "print(\"10. Bv =\\n\", Bv, \"\\n\")\n",
    "print(\"11. Aw =\\n\", Aw, \"\\n\")\n"
   ]
  },
  {
   "cell_type": "markdown",
   "id": "c5d185d2",
   "metadata": {},
   "source": [
    "# Matrix Multiplication:"
   ]
  },
  {
   "cell_type": "code",
   "execution_count": 4,
   "id": "aa341a83",
   "metadata": {},
   "outputs": [
    {
     "name": "stdout",
     "output_type": "stream",
     "text": [
      "12. AB =\n",
      " [[ 25  15  51]\n",
      " [ 56  14 119]\n",
      " [ 20   7  52]] \n",
      "\n",
      "13. BA =\n",
      " [[25 16 22]\n",
      " [38 35 36]\n",
      " [57 33 31]] \n",
      "\n",
      "14. CD =\n",
      " [[13 10  8  2]\n",
      " [12 16 26 12]\n",
      " [ 3  2  1  0]] \n",
      "\n"
     ]
    }
   ],
   "source": [
    "import numpy as np\n",
    "\n",
    " \n",
    "A = np.array([[3, 6, 1], [2, 6, 9], [5, 1, 3]])\n",
    "B = np.array([[1, 1, 4], [3, 2, 5], [4, 0, 9]])\n",
    "C = np.array([[1, 4], [6, 2], [0, 1]])\n",
    "D = np.array([[1, 2, 4, 2], [3, 2, 1, 0]])\n",
    "\n",
    " \n",
    "AB = np.dot(A, B)  # A * B\n",
    "BA = np.dot(B, A)  # B * A\n",
    "CD = np.dot(C, D)  # C * D\n",
    "\n",
    "\n",
    "print(\"12. AB =\\n\", AB, \"\\n\")\n",
    "print(\"13. BA =\\n\", BA, \"\\n\")\n",
    "print(\"14. CD =\\n\", CD, \"\\n\")\n"
   ]
  },
  {
   "cell_type": "code",
   "execution_count": null,
   "id": "4d934f87",
   "metadata": {},
   "outputs": [],
   "source": []
  }
 ],
 "metadata": {
  "hide_input": false,
  "kernelspec": {
   "display_name": "Python 3 (ipykernel)",
   "language": "python",
   "name": "python3"
  },
  "language_info": {
   "codemirror_mode": {
    "name": "ipython",
    "version": 3
   },
   "file_extension": ".py",
   "mimetype": "text/x-python",
   "name": "python",
   "nbconvert_exporter": "python",
   "pygments_lexer": "ipython3",
   "version": "3.9.13"
  },
  "toc": {
   "base_numbering": 1,
   "nav_menu": {},
   "number_sections": true,
   "sideBar": true,
   "skip_h1_title": false,
   "title_cell": "Table of Contents",
   "title_sidebar": "Contents",
   "toc_cell": false,
   "toc_position": {},
   "toc_section_display": true,
   "toc_window_display": false
  }
 },
 "nbformat": 4,
 "nbformat_minor": 5
}
