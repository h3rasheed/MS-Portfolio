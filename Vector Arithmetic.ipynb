{
 "cells": [
  {
   "cell_type": "markdown",
   "id": "5b0e5ff7",
   "metadata": {},
   "source": [
    "## Vector Arithmetic:"
   ]
  },
  {
   "cell_type": "code",
   "execution_count": 1,
   "id": "e25d428e",
   "metadata": {},
   "outputs": [
    {
     "name": "stdout",
     "output_type": "stream",
     "text": [
      "Answer for problem 1 (u - v): [-2 -2]\n",
      "Answer for problem 2 (u + v): [ 6 12]\n",
      "Answer for problem 3 (3u - 5v): [-14 -20]\n",
      "Answer for problem 4 (2u + 4v): [20 38]\n"
     ]
    }
   ],
   "source": [
    "import numpy as np\n",
    "\n",
    "# Define the variables for the vectors u and v\n",
    "u = np.array([2, 5])\n",
    "v = np.array([4, 7])\n",
    "\n",
    "# Perform the calculations\n",
    "answer_1 = u - v\n",
    "answer_2 = u + v\n",
    "answer_3 = 3 * u - 5 * v\n",
    "answer_4 = 2 * u + 4 * v\n",
    "\n",
    "# Create f-string print statements for each answer\n",
    "print(f'Answer for problem 1 (u - v): {answer_1}')\n",
    "print(f'Answer for problem 2 (u + v): {answer_2}')\n",
    "print(f'Answer for problem 3 (3u - 5v): {answer_3}')\n",
    "print(f'Answer for problem 4 (2u + 4v): {answer_4}')\n"
   ]
  },
  {
   "cell_type": "markdown",
   "id": "d9adce97",
   "metadata": {},
   "source": [
    " ## Matrix Arithmetic"
   ]
  },
  {
   "cell_type": "code",
   "execution_count": 2,
   "id": "4ea4c940",
   "metadata": {},
   "outputs": [
    {
     "data": {
      "text/markdown": [
       "**Answer for problem 5 (A + B):**"
      ],
      "text/plain": [
       "<IPython.core.display.Markdown object>"
      ]
     },
     "metadata": {},
     "output_type": "display_data"
    },
    {
     "data": {
      "text/plain": [
       "array([[ 4,  7,  5],\n",
       "       [ 5,  8, 14],\n",
       "       [ 9,  1, 12]])"
      ]
     },
     "metadata": {},
     "output_type": "display_data"
    },
    {
     "data": {
      "text/markdown": [
       "**Answer for problem 6 (A - B):**"
      ],
      "text/plain": [
       "<IPython.core.display.Markdown object>"
      ]
     },
     "metadata": {},
     "output_type": "display_data"
    },
    {
     "data": {
      "text/plain": [
       "array([[ 2,  5, -3],\n",
       "       [-1,  4,  4],\n",
       "       [ 1,  1, -6]])"
      ]
     },
     "metadata": {},
     "output_type": "display_data"
    },
    {
     "data": {
      "text/markdown": [
       "**Answer for problem 7 (2A - 3B):**"
      ],
      "text/plain": [
       "<IPython.core.display.Markdown object>"
      ]
     },
     "metadata": {},
     "output_type": "display_data"
    },
    {
     "data": {
      "text/plain": [
       "array([[  3,   9, -10],\n",
       "       [ -5,   6,   3],\n",
       "       [ -2,   2, -21]])"
      ]
     },
     "metadata": {},
     "output_type": "display_data"
    },
    {
     "data": {
      "text/markdown": [
       "**Answer for problem 8 (5A + 2B):**"
      ],
      "text/plain": [
       "<IPython.core.display.Markdown object>"
      ]
     },
     "metadata": {},
     "output_type": "display_data"
    },
    {
     "data": {
      "text/plain": [
       "array([[17, 32, 13],\n",
       "       [16, 34, 55],\n",
       "       [33,  5, 33]])"
      ]
     },
     "metadata": {},
     "output_type": "display_data"
    }
   ],
   "source": [
    "import numpy as np\n",
    "from IPython.display import display, Markdown\n",
    "\n",
    "# Define the matrices A and B\n",
    "A = np.array([[3, 6, 1], [2, 6, 9], [5, 1, 3]])\n",
    "B = np.array([[1, 1, 4], [3, 2, 5], [4, 0, 9]])\n",
    "\n",
    "# Perform the matrix arithmetic calculations\n",
    "answer_5 = A + B\n",
    "answer_6 = A - B\n",
    "answer_7 = 2 * A - 3 * B\n",
    "answer_8 = 5 * A + 2 * B\n",
    "\n",
    "# Use display to show each result in a formatted manner\n",
    "display(Markdown('**Answer for problem 5 (A + B):**'))\n",
    "display(answer_5)\n",
    "display(Markdown('**Answer for problem 6 (A - B):**'))\n",
    "display(answer_6)\n",
    "display(Markdown('**Answer for problem 7 (2A - 3B):**'))\n",
    "display(answer_7)\n",
    "display(Markdown('**Answer for problem 8 (5A + 2B):**'))\n",
    "display(answer_8)\n"
   ]
  },
  {
   "cell_type": "code",
   "execution_count": 3,
   "id": "9265d9cf",
   "metadata": {},
   "outputs": [
    {
     "data": {
      "text/plain": [
       "'Answer for problem 5 (A + B):'"
      ]
     },
     "metadata": {},
     "output_type": "display_data"
    },
    {
     "data": {
      "text/plain": [
       "array([[ 4,  7,  5],\n",
       "       [ 5,  8, 14],\n",
       "       [ 9,  1, 12]])"
      ]
     },
     "metadata": {},
     "output_type": "display_data"
    },
    {
     "data": {
      "text/plain": [
       "'Answer for problem 6 (A - B):'"
      ]
     },
     "metadata": {},
     "output_type": "display_data"
    },
    {
     "data": {
      "text/plain": [
       "array([[ 2,  5, -3],\n",
       "       [-1,  4,  4],\n",
       "       [ 1,  1, -6]])"
      ]
     },
     "metadata": {},
     "output_type": "display_data"
    },
    {
     "data": {
      "text/plain": [
       "'Answer for problem 7 (2A - 3B):'"
      ]
     },
     "metadata": {},
     "output_type": "display_data"
    },
    {
     "data": {
      "text/plain": [
       "array([[  3,   9, -10],\n",
       "       [ -5,   6,   3],\n",
       "       [ -2,   2, -21]])"
      ]
     },
     "metadata": {},
     "output_type": "display_data"
    },
    {
     "data": {
      "text/plain": [
       "'Answer for problem 8 (5A + 2B):'"
      ]
     },
     "metadata": {},
     "output_type": "display_data"
    },
    {
     "data": {
      "text/plain": [
       "array([[17, 32, 13],\n",
       "       [16, 34, 55],\n",
       "       [33,  5, 33]])"
      ]
     },
     "metadata": {},
     "output_type": "display_data"
    }
   ],
   "source": [
    "from IPython.display import display\n",
    "\n",
    "# Use display to show each result in a formatted manner\n",
    "display('Answer for problem 5 (A + B):', answer_5)\n",
    "display('Answer for problem 6 (A - B):', answer_6)\n",
    "display('Answer for problem 7 (2A - 3B):', answer_7)\n",
    "display('Answer for problem 8 (5A + 2B):', answer_8)\n"
   ]
  },
  {
   "cell_type": "markdown",
   "id": "c1b3d46f",
   "metadata": {},
   "source": [
    "# Matrix/Vector Multiplication"
   ]
  },
  {
   "cell_type": "code",
   "execution_count": 4,
   "id": "87a9a871",
   "metadata": {},
   "outputs": [
    {
     "data": {
      "text/markdown": [
       "**Answer for problem 9 (Au):**"
      ],
      "text/plain": [
       "<IPython.core.display.Markdown object>"
      ]
     },
     "metadata": {},
     "output_type": "display_data"
    },
    {
     "data": {
      "text/plain": [
       "array([17, 30, 22])"
      ]
     },
     "metadata": {},
     "output_type": "display_data"
    },
    {
     "data": {
      "text/markdown": [
       "**Answer for problem 10 (Bv):**"
      ],
      "text/plain": [
       "<IPython.core.display.Markdown object>"
      ]
     },
     "metadata": {},
     "output_type": "display_data"
    },
    {
     "data": {
      "text/plain": [
       "array([106,  68,  87])"
      ]
     },
     "metadata": {},
     "output_type": "display_data"
    },
    {
     "data": {
      "text/markdown": [
       "**Answer for problem 11 (Aw):**"
      ],
      "text/plain": [
       "<IPython.core.display.Markdown object>"
      ]
     },
     "metadata": {},
     "output_type": "display_data"
    },
    {
     "data": {
      "text/plain": [
       "array([6, 6, 1])"
      ]
     },
     "metadata": {},
     "output_type": "display_data"
    }
   ],
   "source": [
    "\n",
    "from IPython.display import display, Markdown\n",
    "\n",
    "# Define the matrix A and vectors u, w\n",
    "A = np.array([[3, 6, 1], [2, 6, 9], [5, 1, 3]])\n",
    "u = np.array([3, 1, 2])\n",
    "w = np.array([0, 1, 0])\n",
    "\n",
    "# Define the matrix B and vector v\n",
    "B = np.array([[1, 1, 4, 9], [3, 2, 5, 1], [2, 5, 1, 7]])\n",
    "v = np.array([2, 5, 9, 7])\n",
    "\n",
    "# Perform the matrix-vector multiplications\n",
    "answer_9 = A.dot(u)\n",
    "answer_10 = B.dot(v)\n",
    "answer_11 = A.dot(w)\n",
    "\n",
    "# Display the results using the display function\n",
    "display(Markdown('**Answer for problem 9 (Au):**'))\n",
    "display(answer_9)\n",
    "display(Markdown('**Answer for problem 10 (Bv):**'))\n",
    "display(answer_10)\n",
    "display(Markdown('**Answer for problem 11 (Aw):**'))\n",
    "display(answer_11)\n"
   ]
  },
  {
   "cell_type": "markdown",
   "id": "5e7ec6d9",
   "metadata": {},
   "source": [
    "## Matrix Multiplication"
   ]
  },
  {
   "cell_type": "code",
   "execution_count": 5,
   "id": "1b5bcf4f",
   "metadata": {},
   "outputs": [
    {
     "data": {
      "text/markdown": [
       "**Answer for problem 12 (AB):**"
      ],
      "text/plain": [
       "<IPython.core.display.Markdown object>"
      ]
     },
     "metadata": {},
     "output_type": "display_data"
    },
    {
     "data": {
      "text/plain": [
       "array([[ 25,  15,  51],\n",
       "       [ 56,  14, 119],\n",
       "       [ 20,   7,  52]])"
      ]
     },
     "metadata": {},
     "output_type": "display_data"
    },
    {
     "data": {
      "text/markdown": [
       "**Answer for problem 13 (BA):**"
      ],
      "text/plain": [
       "<IPython.core.display.Markdown object>"
      ]
     },
     "metadata": {},
     "output_type": "display_data"
    },
    {
     "data": {
      "text/plain": [
       "array([[25, 16, 22],\n",
       "       [38, 35, 36],\n",
       "       [57, 33, 31]])"
      ]
     },
     "metadata": {},
     "output_type": "display_data"
    },
    {
     "data": {
      "text/markdown": [
       "**Answer for problem 14 (CD):**"
      ],
      "text/plain": [
       "<IPython.core.display.Markdown object>"
      ]
     },
     "metadata": {},
     "output_type": "display_data"
    },
    {
     "data": {
      "text/plain": [
       "array([[13, 10,  8,  2],\n",
       "       [12, 16, 26, 12],\n",
       "       [ 3,  2,  1,  0]])"
      ]
     },
     "metadata": {},
     "output_type": "display_data"
    }
   ],
   "source": [
    "import numpy as np\n",
    "from IPython.display import display, Markdown\n",
    "\n",
    "# Define the matrices A, B, C, and D\n",
    "A = np.array([[3, 6, 1], [2, 6, 9], [5, 1, 3]])\n",
    "B = np.array([[1, 1, 4], [3, 2, 5], [4, 0, 9]])\n",
    "C = np.array([[1, 4], [6, 2], [0, 1]])\n",
    "D = np.array([[1, 2, 4, 2], [3, 2, 1, 0]])\n",
    "\n",
    "# Perform the matrix multiplication operations\n",
    "answer_12 = A.dot(B)\n",
    "answer_13 = B.dot(A)\n",
    "answer_14 = C.dot(D)\n",
    "\n",
    "# Display the results using the display function\n",
    "display(Markdown('**Answer for problem 12 (AB):**'))\n",
    "display(answer_12)\n",
    "display(Markdown('**Answer for problem 13 (BA):**'))\n",
    "display(answer_13)\n",
    "display(Markdown('**Answer for problem 14 (CD):**'))\n",
    "display(answer_14)\n"
   ]
  },
  {
   "cell_type": "code",
   "execution_count": null,
   "id": "9314dc0b",
   "metadata": {},
   "outputs": [],
   "source": []
  }
 ],
 "metadata": {
  "hide_input": false,
  "kernelspec": {
   "display_name": "Python 3 (ipykernel)",
   "language": "python",
   "name": "python3"
  },
  "language_info": {
   "codemirror_mode": {
    "name": "ipython",
    "version": 3
   },
   "file_extension": ".py",
   "mimetype": "text/x-python",
   "name": "python",
   "nbconvert_exporter": "python",
   "pygments_lexer": "ipython3",
   "version": "3.9.13"
  },
  "toc": {
   "base_numbering": 1,
   "nav_menu": {},
   "number_sections": true,
   "sideBar": true,
   "skip_h1_title": false,
   "title_cell": "Table of Contents",
   "title_sidebar": "Contents",
   "toc_cell": false,
   "toc_position": {},
   "toc_section_display": true,
   "toc_window_display": false
  }
 },
 "nbformat": 4,
 "nbformat_minor": 5
}
