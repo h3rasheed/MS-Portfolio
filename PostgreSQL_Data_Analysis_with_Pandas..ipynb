{
 "cells": [
  {
   "cell_type": "code",
   "execution_count": 1,
   "id": "fa01369c",
   "metadata": {},
   "outputs": [
    {
     "name": "stderr",
     "output_type": "stream",
     "text": [
      "C:\\Users\\Haneef\\anaconda3\\lib\\site-packages\\pandas\\io\\sql.py:761: UserWarning: pandas only support SQLAlchemy connectable(engine/connection) ordatabase string URI or sqlite3 DBAPI2 connectionother DBAPI2 objects are not tested, please consider using SQLAlchemy\n",
      "  warnings.warn(\n"
     ]
    }
   ],
   "source": [
    "# Name: Haneefuddin Rasheed #Date: 11/26/2023 #Time of Recording :9:33 am \n",
    "# Step 1: Import the psycopg2 and pandas packages\n",
    "import psycopg2\n",
    "import pandas as pd\n",
    "\n",
    "# Step 2: Create a connection to the University Database (created in Module 5)\n",
    "conn = psycopg2.connect(\"dbname=Module_5 user=postgres password=Haneef-20\")\n",
    "\n",
    "# Step 3: Create the cursor object\n",
    "cur = conn.cursor()\n",
    "\n",
    "# Step 4: Write a query that correctly answers the question above\n",
    "query = '''\n",
    "    SELECT dept_name, ROUND(AVG(tot_cred), 2) AS dept_avg_credits\n",
    "    FROM student\n",
    "    GROUP BY dept_name\n",
    "    ORDER BY dept_name;\n",
    "'''\n",
    "\n",
    "# Step 5: Store the results in a Pandas DataFrame\n",
    "df = pd.read_sql_query(query, conn)\n",
    "\n",
    "# Step 6: Export the Pandas DataFrame to a CSV\n",
    "df.to_csv('Assignment_Seven_data_1.csv', index=False)\n",
    "\n",
    "# Step 7: Commit the changes\n",
    "conn.commit()\n",
    "\n",
    "# Step 8: Close the Connection\n",
    "cur.close()\n",
    "conn.close()\n"
   ]
  },
  {
   "cell_type": "code",
   "execution_count": null,
   "id": "03f6f926",
   "metadata": {},
   "outputs": [],
   "source": [
    "df"
   ]
  },
  {
   "cell_type": "code",
   "execution_count": null,
   "id": "1f1d3dbd",
   "metadata": {},
   "outputs": [],
   "source": []
  },
  {
   "cell_type": "code",
   "execution_count": null,
   "id": "826130d6",
   "metadata": {},
   "outputs": [],
   "source": []
  },
  {
   "cell_type": "code",
   "execution_count": null,
   "id": "b2d36660",
   "metadata": {},
   "outputs": [],
   "source": []
  },
  {
   "cell_type": "code",
   "execution_count": null,
   "id": "a2acd616",
   "metadata": {},
   "outputs": [],
   "source": [
    "try:\n",
    "    # Your previous queries here\n",
    "    # Example: cur.execute(\"some query\")\n",
    "    pass  # Replace 'pass' with your actual code\n",
    "\n",
    "    # Your SELECT query\n",
    "    cur.execute(\"SELECT * FROM test\")\n",
    "\n",
    "except SomeSpecificError as e:\n",
    "    # Handle specific errors if you know what might go wrong\n",
    "    print(\"An error occurred:\", e)\n",
    "    connection.rollback()\n",
    "\n",
    "except Exception as e:\n",
    "    # General error handling\n",
    "    print(\"An unexpected error occurred:\", e)\n",
    "    connection.rollback()\n",
    "    # Optionally re-raise the exception if you can't handle it here\n",
    "    raise\n",
    "\n",
    "finally:\n",
    "    # If you need to do any cleanup, do it here\n",
    "    pass  # Replace 'pass' with your cleanup code\n",
    "\n",
    "# Continue with other operations\n"
   ]
  },
  {
   "cell_type": "code",
   "execution_count": null,
   "id": "e763331e",
   "metadata": {},
   "outputs": [],
   "source": [
    "# Make the changes to the database persistent\n",
    "conn.commit()"
   ]
  },
  {
   "cell_type": "code",
   "execution_count": null,
   "id": "b4a027bd",
   "metadata": {},
   "outputs": [],
   "source": [
    "# Close communication with the database\n",
    "cur.close()\n",
    "conn.close()"
   ]
  },
  {
   "cell_type": "code",
   "execution_count": null,
   "id": "4146f118",
   "metadata": {},
   "outputs": [],
   "source": [
    "print(cur.fetchone())"
   ]
  },
  {
   "cell_type": "code",
   "execution_count": null,
   "id": "ce7c6beb",
   "metadata": {},
   "outputs": [],
   "source": []
  }
 ],
 "metadata": {
  "hide_input": false,
  "kernelspec": {
   "display_name": "Python 3 (ipykernel)",
   "language": "python",
   "name": "python3"
  },
  "language_info": {
   "codemirror_mode": {
    "name": "ipython",
    "version": 3
   },
   "file_extension": ".py",
   "mimetype": "text/x-python",
   "name": "python",
   "nbconvert_exporter": "python",
   "pygments_lexer": "ipython3",
   "version": "3.9.13"
  },
  "toc": {
   "base_numbering": 1,
   "nav_menu": {},
   "number_sections": true,
   "sideBar": true,
   "skip_h1_title": false,
   "title_cell": "Table of Contents",
   "title_sidebar": "Contents",
   "toc_cell": false,
   "toc_position": {},
   "toc_section_display": true,
   "toc_window_display": false
  }
 },
 "nbformat": 4,
 "nbformat_minor": 5
}
